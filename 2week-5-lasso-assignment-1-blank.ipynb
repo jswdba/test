{
 "cells": [
  {
   "cell_type": "markdown",
   "metadata": {},
   "source": [
    "# Regression Week 5: Feature Selection and LASSO (Interpretation)"
   ]
  },
  {
   "cell_type": "markdown",
   "metadata": {},
   "source": [
    "In this notebook, you will use LASSO to select features, building on a pre-implemented solver for LASSO (using GraphLab Create, though you can use other solvers). You will:\n",
    "* Run LASSO with different L1 penalties.\n",
    "* Choose best L1 penalty using a validation set.\n",
    "* Choose best L1 penalty using a validation set, with additional constraint on the size of subset.\n",
    "\n",
    "In the second notebook, you will implement your own LASSO solver, using coordinate descent. "
   ]
  },
  {
   "cell_type": "markdown",
   "metadata": {},
   "source": [
    "# Fire up graphlab create"
   ]
  },
  {
   "cell_type": "code",
   "execution_count": 1,
   "metadata": {
    "collapsed": false
   },
   "outputs": [
    {
     "name": "stderr",
     "output_type": "stream",
     "text": [
      "A newer version of GraphLab Create (v1.8.1) is available! Your current version is v1.7.1.\n",
      "\n",
      "You can use pip to upgrade the graphlab-create package. For more information see https://dato.com/products/create/upgrade.\n"
     ]
    }
   ],
   "source": [
    "import graphlab\n",
    "import numpy as np"
   ]
  },
  {
   "cell_type": "markdown",
   "metadata": {},
   "source": [
    "# Load in house sales data\n",
    "\n",
    "Dataset is from house sales in King County, the region where the city of Seattle, WA is located."
   ]
  },
  {
   "cell_type": "code",
   "execution_count": 3,
   "metadata": {
    "collapsed": false,
    "scrolled": true
   },
   "outputs": [],
   "source": [
    "sales = graphlab.SFrame('C:\\Users\\Jas\\Documents\\UofWash_ML\\kc_house_data.gl/')"
   ]
  },
  {
   "cell_type": "markdown",
   "metadata": {},
   "source": [
    "# Create new features"
   ]
  },
  {
   "cell_type": "markdown",
   "metadata": {},
   "source": [
    "As in Week 2, we consider features that are some transformations of inputs."
   ]
  },
  {
   "cell_type": "code",
   "execution_count": 4,
   "metadata": {
    "collapsed": true
   },
   "outputs": [],
   "source": [
    "from math import log, sqrt\n",
    "sales['sqft_living_sqrt'] = sales['sqft_living'].apply(sqrt)\n",
    "sales['sqft_lot_sqrt'] = sales['sqft_lot'].apply(sqrt)\n",
    "sales['bedrooms_square'] = sales['bedrooms']*sales['bedrooms']\n",
    "\n",
    "# In the dataset, 'floors' was defined with type string, \n",
    "# so we'll convert them to float, before creating a new feature.\n",
    "sales['floors'] = sales['floors'].astype(float) \n",
    "sales['floors_square'] = sales['floors']*sales['floors']"
   ]
  },
  {
   "cell_type": "markdown",
   "metadata": {},
   "source": [
    "* Squaring bedrooms will increase the separation between not many bedrooms (e.g. 1) and lots of bedrooms (e.g. 4) since 1^2 = 1 but 4^2 = 16. Consequently this variable will mostly affect houses with many bedrooms.\n",
    "* On the other hand, taking square root of sqft_living will decrease the separation between big house and small house. The owner may not be exactly twice as happy for getting a house that is twice as big."
   ]
  },
  {
   "cell_type": "markdown",
   "metadata": {},
   "source": [
    "# Learn regression weights with L1 penalty"
   ]
  },
  {
   "cell_type": "markdown",
   "metadata": {},
   "source": [
    "Let us fit a model with all the features available, plus the features we just created above."
   ]
  },
  {
   "cell_type": "code",
   "execution_count": 5,
   "metadata": {
    "collapsed": false
   },
   "outputs": [],
   "source": [
    "all_features = ['bedrooms', 'bedrooms_square',\n",
    "            'bathrooms',\n",
    "            'sqft_living', 'sqft_living_sqrt',\n",
    "            'sqft_lot', 'sqft_lot_sqrt',\n",
    "            'floors', 'floors_square',\n",
    "            'waterfront', 'view', 'condition', 'grade',\n",
    "            'sqft_above',\n",
    "            'sqft_basement',\n",
    "            'yr_built', 'yr_renovated']"
   ]
  },
  {
   "cell_type": "markdown",
   "metadata": {},
   "source": [
    "Applying L1 penalty requires adding an extra parameter (`l1_penalty`) to the linear regression call in GraphLab Create. (Other tools may have separate implementations of LASSO.)  Note that it's important to set `l2_penalty=0` to ensure we don't introduce an additional L2 penalty."
   ]
  },
  {
   "cell_type": "code",
   "execution_count": 19,
   "metadata": {
    "collapsed": false
   },
   "outputs": [
    {
     "name": "stdout",
     "output_type": "stream",
     "text": [
      "PROGRESS: Linear regression:\n",
      "PROGRESS: --------------------------------------------------------\n",
      "PROGRESS: Number of examples          : 21613\n",
      "PROGRESS: Number of features          : 17\n",
      "PROGRESS: Number of unpacked features : 17\n",
      "PROGRESS: Number of coefficients    : 18\n",
      "PROGRESS: Starting Accelerated Gradient (FISTA)\n",
      "PROGRESS: --------------------------------------------------------\n",
      "PROGRESS: +-----------+----------+-----------+--------------+--------------------+---------------+\n",
      "PROGRESS: | Iteration | Passes   | Step size | Elapsed Time | Training-max_error | Training-rmse |\n",
      "PROGRESS: +-----------+----------+-----------+--------------+--------------------+---------------+\n",
      "PROGRESS: Tuning step size. First iteration could take longer than subsequent iterations.\n",
      "PROGRESS: | 1         | 2        | 0.000002  | 0.365410     | 6962915.603493     | 426631.749026 |\n",
      "PROGRESS: | 2         | 3        | 0.000002  | 0.396661     | 6843144.200219     | 392488.929838 |\n",
      "PROGRESS: | 3         | 4        | 0.000002  | 0.427911     | 6831900.032123     | 385340.166783 |\n",
      "PROGRESS: | 4         | 5        | 0.000002  | 0.459195     | 6847166.848958     | 384842.383767 |\n",
      "PROGRESS: | 5         | 6        | 0.000002  | 0.490413     | 6869667.895833     | 385998.458623 |\n",
      "PROGRESS: | 6         | 7        | 0.000002  | 0.537285     | 6847177.773672     | 380824.455891 |\n",
      "PROGRESS: +-----------+----------+-----------+--------------+--------------------+---------------+\n",
      "PROGRESS: TERMINATED: Iteration limit reached.\n",
      "PROGRESS: This model may not be optimal. To improve it, consider increasing `max_iterations`.\n"
     ]
    }
   ],
   "source": [
    "model_all = graphlab.linear_regression.create(sales, target='price', features=all_features,\n",
    "                                              validation_set=None, \n",
    "                                              l2_penalty=0., l1_penalty=1e10)"
   ]
  },
  {
   "cell_type": "markdown",
   "metadata": {},
   "source": [
    "Find what features had non-zero weight."
   ]
  },
  {
   "cell_type": "code",
   "execution_count": 7,
   "metadata": {
    "collapsed": false
   },
   "outputs": [
    {
     "data": {
      "text/html": [
       "<div style=\"max-height:1000px;max-width:1500px;overflow:auto;\"><table frame=\"box\" rules=\"cols\">\n",
       "    <tr>\n",
       "        <th style=\"padding-left: 1em; padding-right: 1em; text-align: center\">name</th>\n",
       "        <th style=\"padding-left: 1em; padding-right: 1em; text-align: center\">index</th>\n",
       "        <th style=\"padding-left: 1em; padding-right: 1em; text-align: center\">value</th>\n",
       "    </tr>\n",
       "    <tr>\n",
       "        <td style=\"padding-left: 1em; padding-right: 1em; text-align: center; vertical-align: top\">(intercept)</td>\n",
       "        <td style=\"padding-left: 1em; padding-right: 1em; text-align: center; vertical-align: top\">None</td>\n",
       "        <td style=\"padding-left: 1em; padding-right: 1em; text-align: center; vertical-align: top\">274873.05595</td>\n",
       "    </tr>\n",
       "    <tr>\n",
       "        <td style=\"padding-left: 1em; padding-right: 1em; text-align: center; vertical-align: top\">bathrooms</td>\n",
       "        <td style=\"padding-left: 1em; padding-right: 1em; text-align: center; vertical-align: top\">None</td>\n",
       "        <td style=\"padding-left: 1em; padding-right: 1em; text-align: center; vertical-align: top\">8468.53108691</td>\n",
       "    </tr>\n",
       "    <tr>\n",
       "        <td style=\"padding-left: 1em; padding-right: 1em; text-align: center; vertical-align: top\">grade</td>\n",
       "        <td style=\"padding-left: 1em; padding-right: 1em; text-align: center; vertical-align: top\">None</td>\n",
       "        <td style=\"padding-left: 1em; padding-right: 1em; text-align: center; vertical-align: top\">842.068034898</td>\n",
       "    </tr>\n",
       "    <tr>\n",
       "        <td style=\"padding-left: 1em; padding-right: 1em; text-align: center; vertical-align: top\">sqft_living_sqrt</td>\n",
       "        <td style=\"padding-left: 1em; padding-right: 1em; text-align: center; vertical-align: top\">None</td>\n",
       "        <td style=\"padding-left: 1em; padding-right: 1em; text-align: center; vertical-align: top\">350.060553386</td>\n",
       "    </tr>\n",
       "    <tr>\n",
       "        <td style=\"padding-left: 1em; padding-right: 1em; text-align: center; vertical-align: top\">sqft_living</td>\n",
       "        <td style=\"padding-left: 1em; padding-right: 1em; text-align: center; vertical-align: top\">None</td>\n",
       "        <td style=\"padding-left: 1em; padding-right: 1em; text-align: center; vertical-align: top\">24.4207209824</td>\n",
       "    </tr>\n",
       "    <tr>\n",
       "        <td style=\"padding-left: 1em; padding-right: 1em; text-align: center; vertical-align: top\">sqft_above</td>\n",
       "        <td style=\"padding-left: 1em; padding-right: 1em; text-align: center; vertical-align: top\">None</td>\n",
       "        <td style=\"padding-left: 1em; padding-right: 1em; text-align: center; vertical-align: top\">20.0247224171</td>\n",
       "    </tr>\n",
       "    <tr>\n",
       "        <td style=\"padding-left: 1em; padding-right: 1em; text-align: center; vertical-align: top\">floors_square</td>\n",
       "        <td style=\"padding-left: 1em; padding-right: 1em; text-align: center; vertical-align: top\">None</td>\n",
       "        <td style=\"padding-left: 1em; padding-right: 1em; text-align: center; vertical-align: top\">0.0</td>\n",
       "    </tr>\n",
       "    <tr>\n",
       "        <td style=\"padding-left: 1em; padding-right: 1em; text-align: center; vertical-align: top\">yr_renovated</td>\n",
       "        <td style=\"padding-left: 1em; padding-right: 1em; text-align: center; vertical-align: top\">None</td>\n",
       "        <td style=\"padding-left: 1em; padding-right: 1em; text-align: center; vertical-align: top\">0.0</td>\n",
       "    </tr>\n",
       "    <tr>\n",
       "        <td style=\"padding-left: 1em; padding-right: 1em; text-align: center; vertical-align: top\">yr_built</td>\n",
       "        <td style=\"padding-left: 1em; padding-right: 1em; text-align: center; vertical-align: top\">None</td>\n",
       "        <td style=\"padding-left: 1em; padding-right: 1em; text-align: center; vertical-align: top\">0.0</td>\n",
       "    </tr>\n",
       "    <tr>\n",
       "        <td style=\"padding-left: 1em; padding-right: 1em; text-align: center; vertical-align: top\">sqft_basement</td>\n",
       "        <td style=\"padding-left: 1em; padding-right: 1em; text-align: center; vertical-align: top\">None</td>\n",
       "        <td style=\"padding-left: 1em; padding-right: 1em; text-align: center; vertical-align: top\">0.0</td>\n",
       "    </tr>\n",
       "</table>\n",
       "[18 rows x 3 columns]<br/>Note: Only the head of the SFrame is printed.<br/>You can use print_rows(num_rows=m, num_columns=n) to print more rows and columns.\n",
       "</div>"
      ],
      "text/plain": [
       "Columns:\n",
       "\tname\tstr\n",
       "\tindex\tstr\n",
       "\tvalue\tfloat\n",
       "\n",
       "Rows: 18\n",
       "\n",
       "Data:\n",
       "+------------------+-------+---------------+\n",
       "|       name       | index |     value     |\n",
       "+------------------+-------+---------------+\n",
       "|   (intercept)    |  None |  274873.05595 |\n",
       "|    bathrooms     |  None | 8468.53108691 |\n",
       "|      grade       |  None | 842.068034898 |\n",
       "| sqft_living_sqrt |  None | 350.060553386 |\n",
       "|   sqft_living    |  None | 24.4207209824 |\n",
       "|    sqft_above    |  None | 20.0247224171 |\n",
       "|  floors_square   |  None |      0.0      |\n",
       "|   yr_renovated   |  None |      0.0      |\n",
       "|     yr_built     |  None |      0.0      |\n",
       "|  sqft_basement   |  None |      0.0      |\n",
       "+------------------+-------+---------------+\n",
       "[18 rows x 3 columns]\n",
       "Note: Only the head of the SFrame is printed.\n",
       "You can use print_rows(num_rows=m, num_columns=n) to print more rows and columns."
      ]
     },
     "execution_count": 7,
     "metadata": {},
     "output_type": "execute_result"
    }
   ],
   "source": [
    "model_all.coefficients.sort('value',ascending = False)"
   ]
  },
  {
   "cell_type": "markdown",
   "metadata": {},
   "source": [
    "Note that a majority of the weights have been set to zero. So by setting an L1 penalty that's large enough, we are performing a subset selection. \n",
    "\n",
    "***QUIZ QUESTION***:\n",
    "According to this list of weights, which of the features have been chosen? "
   ]
  },
  {
   "cell_type": "markdown",
   "metadata": {},
   "source": [
    "# Selecting an L1 penalty"
   ]
  },
  {
   "cell_type": "markdown",
   "metadata": {},
   "source": [
    "To find a good L1 penalty, we will explore multiple values using a validation set. Let us do three way split into train, validation, and test sets:\n",
    "* Split our sales data into 2 sets: training and test\n",
    "* Further split our training data into two sets: train, validation\n",
    "\n",
    "Be *very* careful that you use seed = 1 to ensure you get the same answer!"
   ]
  },
  {
   "cell_type": "code",
   "execution_count": 8,
   "metadata": {
    "collapsed": true
   },
   "outputs": [],
   "source": [
    "(training_and_validation, testing) = sales.random_split(.9,seed=1) # initial train/test split\n",
    "(training, validation) = training_and_validation.random_split(0.5, seed=1) # split training into train and validate"
   ]
  },
  {
   "cell_type": "markdown",
   "metadata": {},
   "source": [
    "Next, we write a loop that does the following:\n",
    "* For `l1_penalty` in [10^1, 10^1.5, 10^2, 10^2.5, ..., 10^7] (to get this in Python, type `np.logspace(1, 7, num=13)`.)\n",
    "    * Fit a regression model with a given `l1_penalty` on TRAIN data. Specify `l1_penalty=l1_penalty` and `l2_penalty=0.` in the parameter list.\n",
    "    * Compute the RSS on VALIDATION data (here you will want to use `.predict()`) for that `l1_penalty`\n",
    "* Report which `l1_penalty` produced the lowest RSS on validation data.\n",
    "\n",
    "When you call `linear_regression.create()` make sure you set `validation_set = None`.\n",
    "\n",
    "Note: you can turn off the print out of `linear_regression.create()` with `verbose = False`"
   ]
  },
  {
   "cell_type": "code",
   "execution_count": 23,
   "metadata": {
    "collapsed": false
   },
   "outputs": [
    {
     "name": "stdout",
     "output_type": "stream",
     "text": [
      "l1_penalty = 1.000000e+01\n",
      "number of nonzeros = 18\n",
      "RSS_validation of 1.000000e+01 is 6.25766285142e+14\n",
      "\n",
      "\n",
      "l1_penalty = 3.162278e+01\n",
      "number of nonzeros = 18\n",
      "RSS_validation of 3.162278e+01 is 6.25766285362e+14\n",
      "\n",
      "\n",
      "l1_penalty = 1.000000e+02\n",
      "number of nonzeros = 18\n",
      "RSS_validation of 1.000000e+02 is 6.25766286058e+14\n",
      "\n",
      "\n",
      "l1_penalty = 3.162278e+02\n",
      "number of nonzeros = 18\n",
      "RSS_validation of 3.162278e+02 is 6.25766288257e+14\n",
      "\n",
      "\n",
      "l1_penalty = 1.000000e+03\n",
      "number of nonzeros = 18\n",
      "RSS_validation of 1.000000e+03 is 6.25766295212e+14\n",
      "\n",
      "\n",
      "l1_penalty = 3.162278e+03\n",
      "number of nonzeros = 18\n",
      "RSS_validation of 3.162278e+03 is 6.25766317206e+14\n",
      "\n",
      "\n",
      "l1_penalty = 1.000000e+04\n",
      "number of nonzeros = 18\n",
      "RSS_validation of 1.000000e+04 is 6.25766386761e+14\n",
      "\n",
      "\n",
      "l1_penalty = 3.162278e+04\n",
      "number of nonzeros = 18\n",
      "RSS_validation of 3.162278e+04 is 6.25766606749e+14\n",
      "\n",
      "\n",
      "l1_penalty = 1.000000e+05\n",
      "number of nonzeros = 18\n",
      "RSS_validation of 1.000000e+05 is 6.25767302792e+14\n",
      "\n",
      "\n",
      "l1_penalty = 3.162278e+05\n",
      "number of nonzeros = 18\n",
      "RSS_validation of 3.162278e+05 is 6.25769507644e+14\n",
      "\n",
      "\n",
      "l1_penalty = 1.000000e+06\n",
      "number of nonzeros = 18\n",
      "RSS_validation of 1.000000e+06 is 6.25776517727e+14\n",
      "\n",
      "\n",
      "l1_penalty = 3.162278e+06\n",
      "number of nonzeros = 18\n",
      "RSS_validation of 3.162278e+06 is 6.25799062845e+14\n",
      "\n",
      "\n",
      "l1_penalty = 1.000000e+07\n",
      "number of nonzeros = 18\n",
      "RSS_validation of 1.000000e+07 is 6.25883719085e+14\n",
      "\n",
      "\n"
     ]
    }
   ],
   "source": [
    "\n",
    "for l1_penalty in np.logspace(1, 7, num=13):\n",
    "\n",
    "    train_model = graphlab.linear_regression.create(training, target='price', features=all_features,\n",
    "                                              validation_set=None, verbose = False, solver ='fista',\n",
    "                                              #max_iterations = 70,\n",
    "                                              l2_penalty=0., l1_penalty=l1_penalty)\n",
    "    validate_predict = train_model.predict(validation)\n",
    "    RSS_validation = np.dot(validation['price'] - validate_predict, \n",
    "                            validation['price'] - validate_predict)\n",
    "    print 'l1_penalty = %e' % l1_penalty\n",
    "    print 'number of nonzeros = %d' % (train_model.coefficients['value']).nnz()\n",
    "    #print train_model.coefficients.sort('value',ascending = False)\n",
    "    #print predict\n",
    "    print 'RSS_validation of %e' % l1_penalty + ' is ' + str(RSS_validation)\n",
    "    print '\\n'"
   ]
  },
  {
   "cell_type": "code",
   "execution_count": 26,
   "metadata": {
    "collapsed": false
   },
   "outputs": [
    {
     "name": "stdout",
     "output_type": "stream",
     "text": [
      "l1_penalty = 3.570000e+09\n",
      "number of nonzeros = 7\n",
      "+------------------+-------+---------------+\n",
      "|       name       | index |     value     |\n",
      "+------------------+-------+---------------+\n",
      "|   (intercept)    |  None | 228662.047885 |\n",
      "|    bathrooms     |  None | 15191.7738817 |\n",
      "|      grade       |  None | 2684.38219558 |\n",
      "| sqft_living_sqrt |  None | 657.249579022 |\n",
      "|     bedrooms     |  None | 180.981165671 |\n",
      "|   sqft_living    |  None | 31.7994956898 |\n",
      "|    sqft_above    |  None | 29.1543414242 |\n",
      "|   yr_renovated   |  None |      0.0      |\n",
      "|     yr_built     |  None |      0.0      |\n",
      "|  sqft_basement   |  None |      0.0      |\n",
      "+------------------+-------+---------------+\n",
      "[18 rows x 3 columns]\n",
      "Note: Only the head of the SFrame is printed.\n",
      "You can use print_rows(num_rows=m, num_columns=n) to print more rows and columns.\n",
      "RSS_validation of 3.570000e+09 is 1.05991868843e+15\n",
      "\n",
      "\n"
     ]
    }
   ],
   "source": [
    " #test l1_penalty = 3570million on Lasso selecting 7 features:\n",
    "l1_penalty = 3570000000\n",
    "train_model = graphlab.linear_regression.create(training, target='price', features=all_features,\n",
    "                                              validation_set=None, verbose = False, solver ='fista',\n",
    "                                              # max_iterations = 70,\n",
    "                                              l2_penalty=0., l1_penalty=l1_penalty)\n",
    "validate_predict = train_model.predict(validation)\n",
    "RSS_validation = np.dot(validation['price'] - validate_predict, \n",
    "                            validation['price'] - validate_predict)\n",
    "print 'l1_penalty = %e' % l1_penalty\n",
    "print 'number of nonzeros = %d' % (train_model.coefficients['value']).nnz()\n",
    "print train_model.coefficients.sort('value',ascending = False)\n",
    "    #print predict\n",
    "print 'RSS_validation of %e' % l1_penalty + ' is ' + str(RSS_validation)\n",
    "print '\\n'"
   ]
  },
  {
   "cell_type": "markdown",
   "metadata": {},
   "source": [
    "*** QUIZ QUESTIONS ***\n",
    "1. What was the best value for the `l1_penalty`?\n",
    "2. What is the RSS on TEST data of the model with the best `l1_penalty`?"
   ]
  },
  {
   "cell_type": "code",
   "execution_count": 33,
   "metadata": {
    "collapsed": false
   },
   "outputs": [
    {
     "name": "stdout",
     "output_type": "stream",
     "text": [
      "l1_penalty = 3.388442e+09\n",
      "number of nonzeros = 8\n",
      "RSS_validation of 3.388442e+09 is 1.04124690022e+15\n",
      "\n",
      "\n",
      "l1_penalty = 3.409036e+09\n",
      "number of nonzeros = 8\n",
      "RSS_validation of 3.409036e+09 is 1.04358158588e+15\n",
      "\n",
      "\n",
      "l1_penalty = 3.429755e+09\n",
      "number of nonzeros = 7\n",
      "RSS_validation of 3.429755e+09 is 1.0453760646e+15\n",
      "\n",
      "\n",
      "l1_penalty = 3.450601e+09\n",
      "number of nonzeros = 7\n",
      "RSS_validation of 3.450601e+09 is 1.04707828852e+15\n",
      "\n",
      "\n",
      "l1_penalty = 3.471573e+09\n",
      "number of nonzeros = 7\n",
      "RSS_validation of 3.471573e+09 is 1.04888828924e+15\n",
      "\n",
      "\n",
      "l1_penalty = 3.492673e+09\n",
      "number of nonzeros = 7\n",
      "RSS_validation of 3.492673e+09 is 1.0512306825e+15\n",
      "\n",
      "\n",
      "l1_penalty = 3.513901e+09\n",
      "number of nonzeros = 7\n",
      "RSS_validation of 3.513901e+09 is 1.05362054551e+15\n",
      "\n",
      "\n",
      "l1_penalty = 3.535258e+09\n",
      "number of nonzeros = 7\n",
      "RSS_validation of 3.535258e+09 is 1.05603332313e+15\n",
      "\n",
      "\n",
      "l1_penalty = 3.556744e+09\n",
      "number of nonzeros = 7\n",
      "RSS_validation of 3.556744e+09 is 1.0584364556e+15\n",
      "\n",
      "\n",
      "l1_penalty = 3.578361e+09\n",
      "number of nonzeros = 7\n",
      "RSS_validation of 3.578361e+09 is 1.06085528065e+15\n",
      "\n",
      "\n",
      "l1_penalty = 3.600110e+09\n",
      "number of nonzeros = 7\n",
      "RSS_validation of 3.600110e+09 is 1.06341314329e+15\n",
      "\n",
      "\n",
      "l1_penalty = 3.621991e+09\n",
      "number of nonzeros = 6\n",
      "RSS_validation of 3.621991e+09 is 1.06580901555e+15\n",
      "\n",
      "\n",
      "l1_penalty = 3.644005e+09\n",
      "number of nonzeros = 6\n",
      "RSS_validation of 3.644005e+09 is 1.06773188028e+15\n",
      "\n",
      "\n",
      "l1_penalty = 3.666153e+09\n",
      "number of nonzeros = 6\n",
      "RSS_validation of 3.666153e+09 is 1.06967098397e+15\n",
      "\n",
      "\n",
      "l1_penalty = 3.688435e+09\n",
      "number of nonzeros = 6\n",
      "RSS_validation of 3.688435e+09 is 1.07175006139e+15\n",
      "\n",
      "\n",
      "l1_penalty = 3.710852e+09\n",
      "number of nonzeros = 6\n",
      "RSS_validation of 3.710852e+09 is 1.07389690289e+15\n",
      "\n",
      "\n",
      "l1_penalty = 3.733406e+09\n",
      "number of nonzeros = 6\n",
      "RSS_validation of 3.733406e+09 is 1.07606243797e+15\n",
      "\n",
      "\n",
      "l1_penalty = 3.756097e+09\n",
      "number of nonzeros = 6\n",
      "RSS_validation of 3.756097e+09 is 1.07824679373e+15\n",
      "\n",
      "\n",
      "l1_penalty = 3.778926e+09\n",
      "number of nonzeros = 6\n",
      "RSS_validation of 3.778926e+09 is 1.08045022185e+15\n",
      "\n",
      "\n",
      "l1_penalty = 3.801894e+09\n",
      "number of nonzeros = 6\n",
      "RSS_validation of 3.801894e+09 is 1.08281877538e+15\n",
      "\n",
      "\n"
     ]
    }
   ],
   "source": [
    "for l1_penalty in np.logspace(9.53, 9.58, num=20):\n",
    "\n",
    "    train_model = graphlab.linear_regression.create(training, target='price', features=all_features,\n",
    "                                              validation_set=None, verbose = False, solver ='fista',\n",
    "                                              #max_iterations = 70,\n",
    "                                              l2_penalty=0., l1_penalty=l1_penalty)\n",
    "    validate_predict = train_model.predict(validation)\n",
    "    RSS_validation = np.dot(validation['price'] - validate_predict, \n",
    "                            validation['price'] - validate_predict)\n",
    "    print 'l1_penalty = %e' % l1_penalty\n",
    "    print 'number of nonzeros = %d' % (train_model.coefficients['value']).nnz()\n",
    "    #print train_model.coefficients.sort('value',ascending = False)\n",
    "    #print predict\n",
    "    print 'RSS_validation of %e' % l1_penalty + ' is ' + str(RSS_validation)\n",
    "    print '\\n'"
   ]
  },
  {
   "cell_type": "markdown",
   "metadata": {},
   "source": [
    "***QUIZ QUESTION***\n",
    "Also, using this value of L1 penalty, how many nonzero weights do you have?"
   ]
  },
  {
   "cell_type": "code",
   "execution_count": null,
   "metadata": {
    "collapsed": false
   },
   "outputs": [],
   "source": []
  },
  {
   "cell_type": "markdown",
   "metadata": {},
   "source": [
    "# Limit the number of nonzero weights\n",
    "\n",
    "What if we absolutely wanted to limit ourselves to, say, 7 features? This may be important if we want to derive \"a rule of thumb\" --- an interpretable model that has only a few features in them."
   ]
  },
  {
   "cell_type": "markdown",
   "metadata": {},
   "source": [
    "In this section, you are going to implement a simple, two phase procedure to achive this goal:\n",
    "1. Explore a large range of `l1_penalty` values to find a narrow region of `l1_penalty` values where models are likely to have the desired number of non-zero weights.\n",
    "2. Further explore the narrow region you found to find a good value for `l1_penalty` that achieves the desired sparsity.  Here, we will again use a validation set to choose the best value for `l1_penalty`."
   ]
  },
  {
   "cell_type": "code",
   "execution_count": null,
   "metadata": {
    "collapsed": true
   },
   "outputs": [],
   "source": [
    "max_nonzeros = 7"
   ]
  },
  {
   "cell_type": "markdown",
   "metadata": {},
   "source": [
    "## Exploring the larger range of values to find a narrow range with the desired sparsity\n",
    "\n",
    "Let's define a wide range of possible `l1_penalty_values`:"
   ]
  },
  {
   "cell_type": "code",
   "execution_count": null,
   "metadata": {
    "collapsed": false
   },
   "outputs": [],
   "source": [
    "l1_penalty_values = np.logspace(8, 10, num=20)"
   ]
  },
  {
   "cell_type": "markdown",
   "metadata": {},
   "source": [
    "Now, implement a loop that search through this space of possible `l1_penalty` values:\n",
    "\n",
    "* For `l1_penalty` in `np.logspace(8, 10, num=20)`:\n",
    "    * Fit a regression model with a given `l1_penalty` on TRAIN data. Specify `l1_penalty=l1_penalty` and `l2_penalty=0.` in the parameter list. When you call `linear_regression.create()` make sure you set `validation_set = None`\n",
    "    * Extract the weights of the model and count the number of nonzeros. Save the number of nonzeros to a list.\n",
    "        * *Hint: `model['coefficients']['value']` gives you an SArray with the parameters you learned.  If you call the method `.nnz()` on it, you will find the number of non-zero parameters!* "
   ]
  },
  {
   "cell_type": "code",
   "execution_count": 17,
   "metadata": {
    "collapsed": false
   },
   "outputs": [
    {
     "name": "stdout",
     "output_type": "stream",
     "text": [
      "l1_penalty = 3.162278e+09\n",
      "number of nonzeros = 10\n",
      "RSS_validation of 3.162278e+09 is 1.00194263832e+15dot1.00194263832e+15\n",
      "\n",
      "\n",
      "l1_penalty = 3.359818e+09\n",
      "number of nonzeros = 8\n",
      "RSS_validation of 3.359818e+09 is 1.03825877376e+15dot1.03825877376e+15\n",
      "\n",
      "\n",
      "l1_penalty = 3.569699e+09\n",
      "number of nonzeros = 7\n",
      "RSS_validation of 3.569699e+09 is 1.05988499033e+15dot1.05988499033e+15\n",
      "\n",
      "\n",
      "l1_penalty = 3.792690e+09\n",
      "number of nonzeros = 6\n",
      "RSS_validation of 3.792690e+09 is 1.08186759232e+15dot1.08186759232e+15\n",
      "\n",
      "\n",
      "l1_penalty = 4.029611e+09\n",
      "number of nonzeros = 6\n",
      "RSS_validation of 4.029611e+09 is 1.10869843807e+15dot1.10869843807e+15\n",
      "\n",
      "\n",
      "l1_penalty = 4.281332e+09\n",
      "number of nonzeros = 6\n",
      "RSS_validation of 4.281332e+09 is 1.14511197515e+15dot1.14511197515e+15\n",
      "\n",
      "\n",
      "l1_penalty = 4.548778e+09\n",
      "number of nonzeros = 6\n",
      "RSS_validation of 4.548778e+09 is 1.19210297917e+15dot1.19210297917e+15\n",
      "\n",
      "\n",
      "l1_penalty = 4.832930e+09\n",
      "number of nonzeros = 5\n",
      "RSS_validation of 4.832930e+09 is 1.24492736032e+15dot1.24492736032e+15\n",
      "\n",
      "\n",
      "l1_penalty = 5.134833e+09\n",
      "number of nonzeros = 5\n",
      "RSS_validation of 5.134833e+09 is 1.29088141294e+15dot1.29088141294e+15\n",
      "\n",
      "\n",
      "l1_penalty = 5.455595e+09\n",
      "number of nonzeros = 4\n",
      "RSS_validation of 5.455595e+09 is 1.33755867798e+15dot1.33755867798e+15\n",
      "\n",
      "\n",
      "l1_penalty = 5.796394e+09\n",
      "number of nonzeros = 3\n",
      "RSS_validation of 5.796394e+09 is 1.36082968064e+15dot1.36082968064e+15\n",
      "\n",
      "\n",
      "l1_penalty = 6.158482e+09\n",
      "number of nonzeros = 3\n",
      "RSS_validation of 6.158482e+09 is 1.38416149024e+15dot1.38416149024e+15\n",
      "\n",
      "\n",
      "l1_penalty = 6.543189e+09\n",
      "number of nonzeros = 2\n",
      "RSS_validation of 6.543189e+09 is 1.42494462979e+15dot1.42494462979e+15\n",
      "\n",
      "\n",
      "l1_penalty = 6.951928e+09\n",
      "number of nonzeros = 1\n",
      "RSS_validation of 6.951928e+09 is 1.2432134525e+15dot1.2432134525e+15\n",
      "\n",
      "\n",
      "l1_penalty = 7.386200e+09\n",
      "number of nonzeros = 1\n",
      "RSS_validation of 7.386200e+09 is 1.23578873053e+15dot1.23578873053e+15\n",
      "\n",
      "\n",
      "l1_penalty = 7.847600e+09\n",
      "number of nonzeros = 1\n",
      "RSS_validation of 7.847600e+09 is 1.23079472046e+15dot1.23079472046e+15\n",
      "\n",
      "\n",
      "l1_penalty = 8.337822e+09\n",
      "number of nonzeros = 1\n",
      "RSS_validation of 8.337822e+09 is 1.2279516294e+15dot1.2279516294e+15\n",
      "\n",
      "\n",
      "l1_penalty = 8.858668e+09\n",
      "number of nonzeros = 1\n",
      "RSS_validation of 8.858668e+09 is 1.23026529204e+15dot1.23026529204e+15\n",
      "\n",
      "\n",
      "l1_penalty = 9.412050e+09\n",
      "number of nonzeros = 1\n",
      "RSS_validation of 9.412050e+09 is 1.23005895797e+15dot1.23005895797e+15\n",
      "\n",
      "\n",
      "l1_penalty = 1.000000e+10\n",
      "number of nonzeros = 1\n",
      "RSS_validation of 1.000000e+10 is 1.22915716064e+15dot1.22915716064e+15\n",
      "\n",
      "\n"
     ]
    }
   ],
   "source": [
    "l1_penalty_min = 9.5\n",
    "l1_penalty_max = 10\n",
    "l1_penalty_values = np.logspace(l1_penalty_min,l1_penalty_max,num=20)\n",
    "\n",
    "for l1_penalty in l1_penalty_values:\n",
    "    train_model = graphlab.linear_regression.create(training, target='price', features=all_features,\n",
    "                                              validation_set=None, verbose = False,\n",
    "                                              l2_penalty=0., l1_penalty=l1_penalty)\n",
    "    validation_predict = train_model.predict(validation)\n",
    "    RSS_validation_sum = sum((validation['price'] - validation_predict)**2)\n",
    "    RSS_validation_dot = np.dot(validation['price'] - validation_predict, validation['price'] - validation_predict)\n",
    "    print 'l1_penalty = %e' % l1_penalty\n",
    "    print 'number of nonzeros = %d' % (train_model.coefficients['value']).nnz()\n",
    "    #print train_model.coefficients.sort('value',ascending = False)\n",
    "    #print predict\n",
    "    print 'RSS_validation of %e' % l1_penalty + ' is ' + str(RSS_validation_sum) + 'dot' + str(RSS_validation_dot)\n",
    "    print '\\n'"
   ]
  },
  {
   "cell_type": "markdown",
   "metadata": {},
   "source": [
    "Out of this large range, we want to find the two ends of our desired narrow range of `l1_penalty`.  At one end, we will have `l1_penalty` values that have too few non-zeros, and at the other end, we will have an `l1_penalty` that has too many non-zeros.  \n",
    "\n",
    "More formally, find:\n",
    "* The largest `l1_penalty` that has more non-zeros than `max_nonzero` (if we pick a penalty smaller than this value, we will definitely have too many non-zero weights)\n",
    "    * Store this value in the variable `l1_penalty_min` (we will use it later)\n",
    "* The smallest `l1_penalty` that has fewer non-zeros than `max_nonzero` (if we pick a penalty larger than this value, we will definitely have too few non-zero weights)\n",
    "    * Store this value in the variable `l1_penalty_max` (we will use it later)\n",
    "\n",
    "\n",
    "*Hint: there are many ways to do this, e.g.:*\n",
    "* Programmatically within the loop above\n",
    "* Creating a list with the number of non-zeros for each value of `l1_penalty` and inspecting it to find the appropriate boundaries."
   ]
  },
  {
   "cell_type": "code",
   "execution_count": null,
   "metadata": {
    "collapsed": true
   },
   "outputs": [],
   "source": [
    "l1_penalty_min = \n",
    "l1_penalty_max = "
   ]
  },
  {
   "cell_type": "markdown",
   "metadata": {},
   "source": [
    "***QUIZ QUESTIONS***\n",
    "\n",
    "What values did you find for `l1_penalty_min` and`l1_penalty_max`? "
   ]
  },
  {
   "cell_type": "markdown",
   "metadata": {},
   "source": [
    "## Exploring the narrow range of values to find the solution with the right number of non-zeros that has lowest RSS on the validation set \n",
    "\n",
    "We will now explore the narrow region of `l1_penalty` values we found:"
   ]
  },
  {
   "cell_type": "code",
   "execution_count": null,
   "metadata": {
    "collapsed": true
   },
   "outputs": [],
   "source": [
    "l1_penalty_values = np.linspace(l1_penalty_min,l1_penalty_max,20)"
   ]
  },
  {
   "cell_type": "markdown",
   "metadata": {},
   "source": [
    "* For `l1_penalty` in `np.linspace(l1_penalty_min,l1_penalty_max,20)`:\n",
    "    * Fit a regression model with a given `l1_penalty` on TRAIN data. Specify `l1_penalty=l1_penalty` and `l2_penalty=0.` in the parameter list. When you call `linear_regression.create()` make sure you set `validation_set = None`\n",
    "    * Measure the RSS of the learned model on the VALIDATION set\n",
    "\n",
    "Find the model that the lowest RSS on the VALIDATION set and has sparsity *equal* to `max_nonzero`."
   ]
  },
  {
   "cell_type": "code",
   "execution_count": null,
   "metadata": {
    "collapsed": true
   },
   "outputs": [],
   "source": []
  },
  {
   "cell_type": "markdown",
   "metadata": {},
   "source": [
    "***QUIZ QUESTIONS***\n",
    "1. What value of `l1_penalty` in our narrow range has the lowest RSS on the VALIDATION set and has sparsity *equal* to `max_nonzeros`?\n",
    "2. What features in this model have non-zero coefficients?"
   ]
  },
  {
   "cell_type": "code",
   "execution_count": null,
   "metadata": {
    "collapsed": false
   },
   "outputs": [],
   "source": []
  }
 ],
 "metadata": {
  "kernelspec": {
   "display_name": "Python 2",
   "language": "python",
   "name": "python2"
  },
  "language_info": {
   "codemirror_mode": {
    "name": "ipython",
    "version": 2
   },
   "file_extension": ".py",
   "mimetype": "text/x-python",
   "name": "python",
   "nbconvert_exporter": "python",
   "pygments_lexer": "ipython2",
   "version": "2.7.10"
  }
 },
 "nbformat": 4,
 "nbformat_minor": 0
}
